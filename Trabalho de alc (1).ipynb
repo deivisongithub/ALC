{
 "cells": [
  {
   "cell_type": "code",
   "execution_count": 17,
   "id": "7f1f7dc0",
   "metadata": {},
   "outputs": [
    {
     "data": {
      "text/plain": [
       "[<matplotlib.lines.Line2D at 0x221f6ad94c0>,\n",
       " <matplotlib.lines.Line2D at 0x221f6ad94f0>]"
      ]
     },
     "execution_count": 17,
     "metadata": {},
     "output_type": "execute_result"
    },
    {
     "data": {
      "image/png": "[encoded data removed]",
      "text/plain": [
       "<Figure size 432x288 with 1 Axes>"
      ]
     },
     "metadata": {
      "needs_background": "light"
     },
     "output_type": "display_data"
    }
   ],
   "source": [
    "from numpy import *\n",
    "from numpy.linalg import solve\n",
    "import matplotlib.pyplot as pp\n",
    "\n",
    "#CARREGANDO O DATASET\n",
    "DataSet = array([\n",
    "[0.00, 0.68],\n",
    "[0.04, 0.74],\n",
    "[0.09, 0.79],\n",
    "[0.13, 0.86],\n",
    "[0.17, 0.86],\n",
    "[0.21, 0.89],\n",
    "[0.26, 0.93],\n",
    "[0.30, 0.97],\n",
    "[0.34, 1.01],\n",
    "[0.39, 0.98],\n",
    "[0.43, 1.04],\n",
    "[0.47, 1.05],\n",
    "[0.51, 1.05],\n",
    "[0.56, 1.07],\n",
    "[0.60, 1.05],\n",
    "])\n",
    "\n",
    "#Número de linhas\n",
    "m = DataSet.shape[0]\n",
    "\n",
    "#Função que recebe uma matriz e retorna a mesma escolonada\n",
    "def escalonamento(A):\n",
    "    A = A.copy()\n",
    "    epsilon = 1e-9\n",
    "    m,n = A.shape\n",
    "    for j in range(min(m,n)):\n",
    "        if abs(A[j,j])<epsilon:\n",
    "            for i in range(j+1,m):\n",
    "                if abs(A[i,j])>epsilon:\n",
    "                    aux = A[i,:].copy()\n",
    "                    A[i,:] = A[j,:].copy()\n",
    "                    A[j,:] = aux\n",
    "                    break      \n",
    "        if abs(A[j,j])>epsilon:\n",
    "            for i in range(j+1,m):\n",
    "                A[i,:] = A[i,:] - A[i,j]/A[j,j]*A[j,:]\n",
    "    return A\n",
    "\n",
    "#\n",
    "def substituicaoReversa(Ab):\n",
    "    m,n = Ab.shape\n",
    "    n = n - 1\n",
    "    A = Ab[:,:n]\n",
    "    b = Ab[:,n]\n",
    "    indices = range(m)\n",
    "    indices = list(indices)\n",
    "    indices.reverse()\n",
    "    x = zeros(n)\n",
    "    for i in indices:\n",
    "        soma = 0\n",
    "        for j in range(i+1,m):\n",
    "            soma = soma + A[i,j]*x[j]\n",
    "        x[i] = 1/A[i,i]*(b[i] - soma)\n",
    "    return x\n",
    "\n",
    "\n",
    "#Matriz \"A\" irá guardar \n",
    "A = column_stack((DataSet[:,0]**2,DataSet[:,0],ones((m,1))))\n",
    "\n",
    "b = DataSet[:,1]\n",
    "\n",
    "AA = A.T@A\n",
    "bb = A.T@b\n",
    "\n",
    "#AA alfa =  bb\n",
    "#alfa = solve(AA,bb)\n",
    "\n",
    "Ab = column_stack((AA,bb))\n",
    "Abe = escalonamento(Ab)\n",
    "alfa = substituicaoReversa(Abe)\n",
    "\n",
    "p = lambda x: alfa[0]*x**2 + alfa[1] * x + alfa[2]\n",
    "\n",
    "x = DataSet[:,0]\n",
    "\n",
    "pp.plot(x,b,'or',x,p(x),'b')\n",
    "\n",
    "#Calculando a raiz para obter o local estimado para o fim da tragétoria do objeto"
   ]
  },
  {
   "cell_type": "code",
   "execution_count": null,
   "id": "f94e588a",
   "metadata": {},
   "outputs": [],
   "source": []
  }
 ],
 "metadata": {
  "kernelspec": {
   "display_name": "Python 3",
   "language": "python",
   "name": "python3"
  },
  "language_info": {
   "codemirror_mode": {
    "name": "ipython",
    "version": 3
   },
   "file_extension": ".py",
   "mimetype": "text/x-python",
   "name": "python",
   "nbconvert_exporter": "python",
   "pygments_lexer": "ipython3",
   "version": "3.8.8"
  }
 },
 "nbformat": 4,
 "nbformat_minor": 5
}
