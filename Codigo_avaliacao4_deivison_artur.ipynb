{
  "nbformat": 4,
  "nbformat_minor": 0,
  "metadata": {
    "colab": {
      "name": "Codigo_avaliacao4_deivison_artur.ipynb",
      "provenance": []
    },
    "kernelspec": {
      "name": "python3",
      "display_name": "Python 3"
    },
    "language_info": {
      "name": "python"
    }
  },
  "cells": [
    {
      "cell_type": "code",
      "metadata": {
        "colab": {
          "base_uri": "https://localhost:8080/",
          "height": 447
        },
        "id": "KiP0NvKjG4H8",
        "outputId": "373096ed-e3e1-4e1f-a954-62cfb691e3aa"
      },
      "source": [
        "#Importando Bibliotecas necessárias \n",
        "from numpy import *\n",
        "from numpy.linalg import solve\n",
        "import matplotlib.pyplot as pp\n",
        "\n",
        "#CARREGANDO O DATASET em um variável\n",
        "DataSet = array([\n",
        "[0.00, 0.68],\n",
        "[0.04, 0.74],\n",
        "[0.09, 0.79],\n",
        "[0.13, 0.86],\n",
        "[0.17, 0.86],\n",
        "[0.21, 0.89],\n",
        "[0.26, 0.93],\n",
        "[0.30, 0.97],\n",
        "[0.34, 1.01],\n",
        "[0.39, 0.98],\n",
        "[0.43, 1.04],\n",
        "[0.47, 1.05],\n",
        "[0.51, 1.05],\n",
        "[0.56, 1.07],\n",
        "[0.60, 1.05],\n",
        "])\n",
        "\n",
        "#Número de linhas\n",
        "m = DataSet.shape[0]\n",
        "\n",
        "#Função que recebe uma matriz e retorna a mesma escolonada\n",
        "def escalonamento(A):\n",
        "    A = A.copy()\n",
        "    epsilon = 1e-9\n",
        "    m,n = A.shape\n",
        "    for j in range(min(m,n)):\n",
        "        if abs(A[j,j])<epsilon:\n",
        "            for i in range(j+1,m):\n",
        "                if abs(A[i,j])>epsilon:\n",
        "                    aux = A[i,:].copy()\n",
        "                    A[i,:] = A[j,:].copy()\n",
        "                    A[j,:] = aux\n",
        "                    break      \n",
        "        if abs(A[j,j])>epsilon:\n",
        "            for i in range(j+1,m):\n",
        "                A[i,:] = A[i,:] - A[i,j]/A[j,j]*A[j,:]\n",
        "    return A\n",
        "\n",
        "#Função que resolve sistema linear com substituição reversa\n",
        "def substituicaoReversa(Ab):\n",
        "    m,n = Ab.shape\n",
        "    n = n - 1\n",
        "    A = Ab[:,:n]\n",
        "    b = Ab[:,n]\n",
        "    indices = range(m)\n",
        "    indices = list(indices)\n",
        "    indices.reverse()\n",
        "    x = zeros(n)\n",
        "    for i in indices:\n",
        "        soma = 0\n",
        "        for j in range(i+1,m):\n",
        "            soma = soma + A[i,j]*x[j]\n",
        "        x[i] = 1/A[i,i]*(b[i] - soma)\n",
        "    return x\n",
        "\n",
        "\n",
        "#A irá guardar uma matriz que contem os x^2,x e os 1.\n",
        "A = column_stack((DataSet[:,0]**2,DataSet[:,0],ones((m,1))))\n",
        "\n",
        "#b vai guardar os y do dataset\n",
        "b = DataSet[:,1]\n",
        "\n",
        "#Usando a propriedade:\n",
        "#A^t . A .alfa =  A^t . b\n",
        "#podemos descobrir alfa\n",
        "#onde alfa é os coeficientes do polinómio\n",
        "\n",
        "#lado esquedo da propriedade\n",
        "AA = A.T@A\n",
        "\n",
        "#lado direito da propriedade\n",
        "bb = A.T@b\n",
        "\n",
        "#escalonando e usando substituição reversa para descobrir os parâmetros\n",
        "Ab = column_stack((AA,bb))\n",
        "Abe = escalonamento(Ab)\n",
        "alfa = substituicaoReversa(Abe)\n",
        "\n",
        "print(\"Os parâmetos para o polinômio são: \",alfa)\n",
        "\n",
        "#função para o calculo do polinómio\n",
        "p = lambda x: alfa[0]*x**2 + alfa[1] * x + alfa[2]\n",
        "\n",
        "x = DataSet[:,0]\n",
        "\n",
        "pp.plot(x,b,'or',x,p(x),'b')\n",
        "\n",
        "#Calculando a raiz para obter o local estimado para o fim da tragétoria do objeto\n",
        "#fórmula de bhaskara para obter as raizes\n",
        "discriminante = alfa[1]**2 - 4*alfa[0]*alfa[2]\n",
        "raiz1 = (-alfa[1] + sqrt(discriminante)) /(2*alfa[0])\n",
        "raiz2 = (-alfa[1] - sqrt(discriminante)) /(2*alfa[0])\n",
        "\n",
        "print(\"Primeira raiz = \",raiz1)\n",
        "print(\"Segunda raiz = \",raiz2)\n",
        "\n",
        "print(\"Como queremos o fim da tragetória estamos interessados na maior raiz.\")\n",
        "print(\"Assim, temos que a posição que o projetil atinge o solo é \")\n",
        "print(raiz2,'Unidades de Medida \\n')\n",
        "\n",
        "print(\"Podemos confirmar isso colocando a segunda raiz como parâmetro no polinômio e resultando 0,já que seria o valor de y(altura) equivalente a esse x\")\n",
        "print(p(raiz2))\n",
        "print(\"como pode observar,confirmado\")"
      ],
      "execution_count": null,
      "outputs": [
        {
          "output_type": "stream",
          "name": "stdout",
          "text": [
            "Os parâmetos para o polinômio são:  [-1.02514832  1.23406256  0.68853367]\n",
            "Primeira raiz =  -0.41492399371012895\n",
            "Segunda raiz =  1.6187132662952342\n",
            "Como queremos o fim da tragetória estamos interessados na maior raiz.\n",
            "Assim, temos que a posição que o projetil atinge o solo é \n",
            "1.6187132662952342 Unidades de Medida \n",
            "\n",
            "Podemos confirmar isso colocando a segunda raiz como parâmetro no polinômio e resultando 0,já que seria o valor de y(altura) equivalente a esse x\n",
            "-3.3306690738754696e-16\n",
            "como pode observar,confirmado\n"
          ]
        },
        {
          "output_type": "display_data",
          "data": {
            "image/png": "[encoded data removed]",
            "text/plain": [
              "<Figure size 432x288 with 1 Axes>"
            ]
          },
          "metadata": {
            "needs_background": "light"
          }
        }
      ]
    },
    {
      "cell_type": "code",
      "metadata": {
        "id": "gvx9FinsVXxb"
      },
      "source": [
        ""
      ],
      "execution_count": null,
      "outputs": []
    }
  ]
}